{
 "cells": [
  {
   "cell_type": "markdown",
   "metadata": {},
   "source": [
    "# Multi-Modal Data Fusion - Exercise 2: Common representational formats"
   ]
  },
  {
   "cell_type": "markdown",
   "metadata": {},
   "source": [
    "\n",
    "## Learning goals\n",
    "\n",
    "After this exercise, you should\n",
    "  \n",
    "- be able to implement PCA on your own and use it from sklearn\n",
    "- be able to implement LDA algorithm\n",
    "- be able to implement bootstrapping algorithm\n",
    "- know how to apply (Gradient) Boosting algorithm for classification problem\n",
    "\n",
    "\n",
    "\n",
    "## Relevant lecture\n",
    "\n",
    "Lecture 3.\n",
    "\n",
    "## Relevant chapters in course book\n",
    "\n",
    "Chapter 4.\n",
    "\n",
    "## Additional material\n",
    "\n",
    "- Scikit-learn https://scikit-learn.org/stable/\n",
    "- Pandas https://pandas.pydata.org/docs/\n",
    "- numpy https://numpy.org/doc/stable/"
   ]
  },
  {
   "cell_type": "code",
   "execution_count": 1,
   "metadata": {},
   "outputs": [],
   "source": [
    "import numpy as np\n",
    "from random import shuffle\n",
    "import scipy.linalg as la\n",
    "import matplotlib.pyplot as plt\n",
    "from sklearn.decomposition import PCA\n",
    "from sklearn.model_selection import train_test_split\n",
    "from sklearn.ensemble import GradientBoostingClassifier\n",
    "from sklearn import metrics"
   ]
  },
  {
   "cell_type": "code",
   "execution_count": null,
   "metadata": {},
   "outputs": [],
   "source": []
  },
  {
   "cell_type": "code",
   "execution_count": null,
   "metadata": {},
   "outputs": [],
   "source": []
  },
  {
   "cell_type": "markdown",
   "metadata": {},
   "source": [
    "# Assignments"
   ]
  },
  {
   "cell_type": "markdown",
   "metadata": {},
   "source": [
    "<a id='Task1.1'></a>\n",
    "<div class=\" alert alert-warning\">\n",
    "    <b>Problem 1: Bootstrapping</b>\n",
    "\n",
    "<p>Implement bootstrapping (see Lecture 3) to the function stub below. You may assume that D is the dataset given as Python list. M is the number of resamples drawn. The function should return MxN matrix where each row contains one bootstrapped sample. \n",
    "    \n",
    "Use of numpy is recommended, especially size() and tile(). Try to use as few for loops as possible.</p>\n",
    "\n",
    "</div>"
   ]
  },
  {
   "cell_type": "code",
   "execution_count": 2,
   "metadata": {},
   "outputs": [],
   "source": [
    "def bootstrap(D,M):\n",
    "    # Implement here\n",
    "    samples = np.tile(D, (M, 1))\n",
    "    for row_no in range(M):\n",
    "        shuffle(D)\n",
    "        samples[row_no] = D\n",
    "    \n",
    "    return samples"
   ]
  },
  {
   "cell_type": "markdown",
   "metadata": {},
   "source": [
    "Sample usage of the bootstrapping algorithm."
   ]
  },
  {
   "cell_type": "code",
   "execution_count": 3,
   "metadata": {},
   "outputs": [
    {
     "name": "stdout",
     "output_type": "stream",
     "text": [
      "[[ 3  1  4  2  5  6 10  7  9  8]\n",
      " [ 2  9  7  6 10  8  1  4  3  5]\n",
      " [ 6  9  5  7  8  3 10  1  2  4]]\n"
     ]
    }
   ],
   "source": [
    "D = [1, 2, 3, 4, 5, 6, 7, 8, 9, 10]\n",
    "print(bootstrap(D,3))"
   ]
  },
  {
   "cell_type": "code",
   "execution_count": null,
   "metadata": {},
   "outputs": [],
   "source": []
  },
  {
   "cell_type": "markdown",
   "metadata": {},
   "source": [
    "<a id='Task1.1'></a>\n",
    "<div class=\" alert alert-warning\">\n",
    "    <b>Problem 2: PCA</b>\n",
    "\n",
    "<p>Implement PCA algorithm as described in Lecture 3. Use data from pca_data.csv. Compute $\\mu$ and $\\Sigma$ as explained in lecture slides. Find eigenvalues and eigenvectors of $\\Sigma$. Pick the first principal component which corresponds to largest eigenvalue. Plot the data and first principal component in same figure. The line depicting the first principal component should start from mean $\\mu$ and end in $\\mu\\pm u_1$, where $u_1$ is the first principal component.</p>\n",
    "\n",
    "</div>"
   ]
  },
  {
   "cell_type": "code",
   "execution_count": null,
   "metadata": {},
   "outputs": [],
   "source": []
  },
  {
   "cell_type": "code",
   "execution_count": 4,
   "metadata": {
    "scrolled": false
   },
   "outputs": [
    {
     "name": "stdout",
     "output_type": "stream",
     "text": [
      "[[0.81472369 1.08541859]\n",
      " [0.90579194 1.28768719]\n",
      " [0.12698682 0.26202135]\n",
      " [0.91337586 1.28071823]\n",
      " [0.63235925 0.91546511]\n",
      " [0.0975404  0.20383426]\n",
      " [0.27849822 0.40903223]\n",
      " [0.54688152 0.79173554]\n",
      " [0.95750684 1.28856361]\n",
      " [0.96488854 1.35185149]\n",
      " [0.15761308 0.21247302]\n",
      " [0.97059278 1.31651367]\n",
      " [0.95716695 1.27561075]\n",
      " [0.48537565 0.65422911]\n",
      " [0.80028047 1.14501449]\n",
      " [0.14188634 0.25788952]\n",
      " [0.42176128 0.59175425]\n",
      " [0.91573553 1.31100026]\n",
      " [0.79220733 1.05539323]\n",
      " [0.95949243 1.31795598]]\n",
      "Eigenvalues and eigenvectors\n",
      "[0.00039878+0.j 0.29857288+0.j]\n",
      "[[-0.79766233 -0.60310431]\n",
      " [ 0.60310431 -0.79766233]]\n"
     ]
    },
    {
     "data": {
      "image/png": "[encoded data removed]",
      "text/plain": [
       "<Figure size 432x288 with 1 Axes>"
      ]
     },
     "metadata": {
      "needs_background": "light"
     },
     "output_type": "display_data"
    }
   ],
   "source": [
    "pca_data = np.genfromtxt('pca_data.csv', delimiter = ',')\n",
    "print(pca_data)\n",
    "mean = np.mean(pca_data, axis = 0)\n",
    "# print(mean)\n",
    "cov = np.cov(np.transpose(pca_data))\n",
    "# print(cov)\n",
    "\n",
    "cov_eigvals, cov_eigvecs = la.eig(cov) # compute eigenvalues and eigenvectors\n",
    "print(\"Eigenvalues and eigenvectors\")\n",
    "print(cov_eigvals)\n",
    "print(cov_eigvecs)\n",
    "pca1 = cov_eigvecs[list(cov_eigvals).index(max(cov_eigvals))] # get the principal component, i.e. \n",
    "                                                              # the eigenvector corresponding to the biggest eigenvalue\n",
    "fig, ax = plt.subplots()\n",
    "ax.scatter(pca_data[:,0], pca_data[:,1])\n",
    "\n",
    "ax.scatter([mean[0], mean[0] + pca1[0]], [mean[1], mean[1] + pca1[1]])\n",
    "ax.plot([mean[0], mean[0] + pca1[0]], [mean[1], mean[1] + pca1[1]]) #line from mean to mean + pca1\n",
    "fig.tight_layout()"
   ]
  },
  {
   "cell_type": "code",
   "execution_count": 68,
   "metadata": {},
   "outputs": [
    {
     "name": "stdout",
     "output_type": "stream",
     "text": [
      "Eigenvalues and eigenvectors\n",
      "[0.00037884+0.j 0.28364423+0.j]\n",
      "[[-0.79766233 -0.60310431]\n",
      " [ 0.60310431 -0.79766233]]\n"
     ]
    }
   ],
   "source": [
    "#same as above, different implementation\n",
    "pca_sub_mean = np.array(pca_data - mean)\n",
    "sigma = np.sum([np.matmul(np.transpose([pca_sub_mean_value]), [pca_sub_mean_value]) for pca_sub_mean_value in pca_sub_mean], axis=0)/len(pca_data)\n",
    "# print(sigma)\n",
    "sigma_eigvals, sigma_eigvecs = la.eig(sigma)\n",
    "print(\"Eigenvalues and eigenvectors\")\n",
    "print(sigma_eigvals)\n",
    "print(sigma_eigvecs)"
   ]
  },
  {
   "cell_type": "markdown",
   "metadata": {},
   "source": [
    "<a id='Task1.1'></a>\n",
    "<div class=\" alert alert-warning\">\n",
    "    <b>Problem 3: PCA using sklearn</b>\n",
    "\n",
    "<p>Consult documentation of sklearn on how to perform PCA using sklearn. Perform PCA using sklearn on same dataset as in Problem 2. Pick the model and train it (fit it) using same data as above. Do you get the same results? If not, what might be a reason for it?</p>\n",
    "\n",
    "</div>"
   ]
  },
  {
   "cell_type": "code",
   "execution_count": 5,
   "metadata": {},
   "outputs": [
    {
     "name": "stdout",
     "output_type": "stream",
     "text": [
      "Eigenvectors\n",
      "[[-0.60310431 -0.79766233]\n",
      " [-0.79766233  0.60310431]]\n"
     ]
    },
    {
     "data": {
      "image/png": "[encoded data removed]",
      "text/plain": [
       "<Figure size 432x288 with 1 Axes>"
      ]
     },
     "metadata": {
      "needs_background": "light"
     },
     "output_type": "display_data"
    }
   ],
   "source": [
    "pca = PCA(whiten = \"True\")\n",
    "pca.fit(pca_data)\n",
    "trans_pca = pca.transform(pca_data)\n",
    "# print(trans_pca)\n",
    "# print(trans_pca[:,0])\n",
    "print(\"Eigenvectors\")\n",
    "print(pca.components_)\n",
    "fig, ax = plt.subplots()\n",
    "ax.scatter(pca_data[:,0], pca_data[:,1])\n",
    "\n",
    "ax.scatter([mean[0], mean[0] + pca.components_[0,0]], [mean[1], mean[1] + pca.components_[0,1]])\n",
    "ax.plot([mean[0], mean[0] + pca.components_[0,0]], [mean[1], mean[1] + pca.components_[0,1]])\n",
    "fig.tight_layout()"
   ]
  },
  {
   "cell_type": "markdown",
   "metadata": {},
   "source": [
    "I do not get the same result. My implementations eigenvectors are mirrored on the vertical axis. My implementation seems to give the second principal component."
   ]
  },
  {
   "cell_type": "markdown",
   "metadata": {},
   "source": [
    "<a id='Task1.1'></a>\n",
    "<div class=\" alert alert-warning\">\n",
    "    <b>Problem 4: LDA</b>\n",
    "\n",
    "<p>Implement LDA algorithm as described in Lecture 3. Use data from lda_data.csv. The data consists of x coordinate, y coordinate and class label (0 or 1). Compute the quantities appearing in lecture slides. The LDA projection operator $U$ consists of single column which is the eigenvector of $H$ corresponding to the largest eigenvalue. Plot the data and the LDA subspace (line) in same figure. The line depicting the LDA subspace should start from mean $\\mu_G$ and end in $\\mu_G\\pm u$, where $u$ is the direction of LDA subspace.</p>\n",
    "\n",
    "</div>"
   ]
  },
  {
   "cell_type": "code",
   "execution_count": 134,
   "metadata": {},
   "outputs": [
    {
     "name": "stdout",
     "output_type": "stream",
     "text": [
      "Eigenvalues and eigenvectors:\n",
      "[13.77424267+0.j  0.14851224+0.j]\n",
      "[[ 9.99915632e-01 -1.32830727e-04]\n",
      " [ 1.29896045e-02  9.99999991e-01]]\n"
     ]
    },
    {
     "data": {
      "image/png": "[encoded data removed]",
      "text/plain": [
       "<Figure size 432x288 with 1 Axes>"
      ]
     },
     "metadata": {
      "needs_background": "light"
     },
     "output_type": "display_data"
    }
   ],
   "source": [
    "lda_data = np.genfromtxt('lda_data.csv', delimiter = ',')\n",
    "# print(lda_data)\n",
    "# print(classes)\n",
    "class_ind_0 = np.where(lda_data[:,2] == 0)[0]\n",
    "class_ind_1 = np.where(lda_data[:,2] == 1)[0]\n",
    "n_k_0 = len(class_ind_0)\n",
    "n_k_1 = len(class_ind_1)\n",
    "mu_0 = np.mean(lda_data[class_ind_0][:, [0,1]], axis=0)\n",
    "mu_1 = np.mean(lda_data[class_ind_1][:, [0,1]], axis=0)\n",
    "# print(mu_0)\n",
    "# print(np.mean(mu_0,axis = 0))\n",
    "n = lda_data.shape[0]\n",
    "# print(n)\n",
    "mu_g = (np.multiply(n_k_0,  mu_0) + np.multiply(n_k_1, mu_1))/n\n",
    "# print(mu_g)\n",
    "# print(np.cov(np.transpose(lda_data[class_ind_1][:, [0,1]])))\n",
    "# print(np.cov(np.transpose(lda_data[class_ind_0][:, [0,1]])))\n",
    "sigma_0 = np.cov(np.transpose(lda_data[class_ind_0][:, [0,1]]))\n",
    "sigma_1 = np.cov(np.transpose(lda_data[class_ind_1][:, [0,1]]))\n",
    "# print(sigma_0)\n",
    "# print(sigma_1)\n",
    "sigma_w = (np.multiply(n_k_0, sigma_0) + np.multiply(n_k_1, sigma_1))/n\n",
    "# print(sigma_w)\n",
    "sigma_b = (np.multiply(np.multiply(n_k_0, (mu_0 - mu_g)), np.transpose(mu_0 - mu_g)) + np.multiply(np.multiply(n_k_1, (mu_1 - mu_g)), np.transpose(mu_1 - mu_g)))/n\n",
    "# print(sigma_b)\n",
    "h = np.multiply(np.linalg.inv(sigma_w), sigma_b)\n",
    "# print(h)\n",
    "h_eigval, h_eigvec = la.eig(h)\n",
    "print(\"Eigenvalues and eigenvectors:\")\n",
    "print(h_eigval)\n",
    "print(h_eigvec)\n",
    "fig, ax = plt.subplots()\n",
    "ax.scatter(lda_data[class_ind_0][:, 0], lda_data[class_ind_0][:, 1])\n",
    "ax.scatter(lda_data[class_ind_1][:, 0], lda_data[class_ind_1][:, 1])\n",
    "ax.plot([mu_g[0] - h_eigvec[0,0], mu_g[0] + h_eigvec[0,0]], [mu_g[1] - h_eigvec[0,1], mu_g[1]+h_eigvec[0,1]])\n",
    "fig.tight_layout()"
   ]
  },
  {
   "cell_type": "code",
   "execution_count": null,
   "metadata": {},
   "outputs": [],
   "source": []
  },
  {
   "cell_type": "markdown",
   "metadata": {},
   "source": [
    "<a id='Task1.1'></a>\n",
    "<div class=\" alert alert-warning\">\n",
    "    <b>Problem 5: Boosting</b>\n",
    "\n",
    "<p>Use the tab-separated(!) file wifi_localization.txt. The data allows to determine indoor room location from wifi signal strenghts. Last column of the file contains class labels of rooms while the first seven columns contains signal strengths of mobile phones. Split the dataset into training (70%), validation (15%) and testing sets (15%). Train GradientBoostingClassifier from sklearn using n_estimators between 1-40. Consult documentation of sklearn (or Google) on how to do this. Compute the validation score on validation set using score(). Plot scores against n. Pick the value for n giving highest score and train the model using training data. For that n,  plot confusion matrix for testing set.</p>\n",
    "\n",
    "</div>"
   ]
  },
  {
   "cell_type": "code",
   "execution_count": 148,
   "metadata": {},
   "outputs": [],
   "source": [
    "wifi_data = np.genfromtxt('wifi_localization.txt', delimiter = '\\t')\n",
    "# print(wifi_data)\n",
    "wifi_labels = wifi_data[:,-1]\n",
    "# print(wifi_data_labels)\n",
    "wifi_data = np.delete(wifi_data, -1, 1)\n",
    "# print(wifi_data)\n",
    "wifi_train, wifi_val_test, wifi_labels_train, wifi_labels_val_test = train_test_split(wifi_data, wifi_labels, train_size=0.70)\n",
    "wifi_validation, wifi_test, wifi_labels_validation, wifi_labels_test = train_test_split(wifi_val_test, wifi_labels_val_test, train_size=0.50)\n",
    "# print(wifi_test)\n",
    "# print(wifi_labels_test)\n",
    "# print(len(wifi_validation))\n",
    "# print(len(wifi_train))\n",
    "bgc_list = [GradientBoostingClassifier(n_estimators = n+1) for n in range(40)]\n",
    "bgc_list_trained = [bgc.fit(wifi_train, wifi_labels_train) for bgc in bgc_list]"
   ]
  },
  {
   "cell_type": "code",
   "execution_count": 172,
   "metadata": {},
   "outputs": [
    {
     "data": {
      "image/png": "[encoded data removed]",
      "text/plain": [
       "<Figure size 432x288 with 2 Axes>"
      ]
     },
     "metadata": {
      "needs_background": "light"
     },
     "output_type": "display_data"
    }
   ],
   "source": [
    "bgc_validated = [bgc.score(wifi_validation, wifi_labels_validation) for bgc in bgc_list_trained]\n",
    "best_n_bgc = bgc_list[bgc_validated.index(max(bgc_validated))]\n",
    "metrics.plot_confusion_matrix(best_n_bgc, wifi_test, wifi_labels_test)\n",
    "plt.show()"
   ]
  }
 ],
 "metadata": {
  "kernelspec": {
   "display_name": "Python 3",
   "language": "python",
   "name": "python3"
  },
  "language_info": {
   "codemirror_mode": {
    "name": "ipython",
    "version": 3
   },
   "file_extension": ".py",
   "mimetype": "text/x-python",
   "name": "python",
   "nbconvert_exporter": "python",
   "pygments_lexer": "ipython3",
   "version": "3.8.3"
  },
  "nbdime-conflicts": {
   "local_diff": [
    {
     "diff": [
      {
       "diff": [
        {
         "diff": [
          {
           "key": 4,
           "op": "addrange",
           "valuelist": "3"
          },
          {
           "key": 4,
           "length": 1,
           "op": "removerange"
          }
         ],
         "key": 0,
         "op": "patch"
        }
       ],
       "key": "version",
       "op": "patch"
      }
     ],
     "key": "language_info",
     "op": "patch"
    }
   ],
   "remote_diff": [
    {
     "diff": [
      {
       "diff": [
        {
         "diff": [
          {
           "key": 4,
           "op": "addrange",
           "valuelist": "4"
          },
          {
           "key": 4,
           "length": 1,
           "op": "removerange"
          }
         ],
         "key": 0,
         "op": "patch"
        }
       ],
       "key": "version",
       "op": "patch"
      }
     ],
     "key": "language_info",
     "op": "patch"
    }
   ]
  },
  "toc": {
   "base_numbering": 1,
   "nav_menu": {},
   "number_sections": false,
   "sideBar": true,
   "skip_h1_title": false,
   "title_cell": "Table of Contents",
   "title_sidebar": "Contents",
   "toc_cell": false,
   "toc_position": {
    "height": "507.275px",
    "left": "23.975px",
    "top": "145.5px",
    "width": "318px"
   },
   "toc_section_display": true,
   "toc_window_display": true
  },
  "varInspector": {
   "cols": {
    "lenName": 16,
    "lenType": 16,
    "lenVar": 40
   },
   "kernels_config": {
    "python": {
     "delete_cmd_postfix": "",
     "delete_cmd_prefix": "del ",
     "library": "var_list.py",
     "varRefreshCmd": "print(var_dic_list())"
    },
    "r": {
     "delete_cmd_postfix": ") ",
     "delete_cmd_prefix": "rm(",
     "library": "var_list.r",
     "varRefreshCmd": "cat(var_dic_list()) "
    }
   },
   "oldHeight": 194.85,
   "position": {
    "height": "216.85px",
    "left": "1417px",
    "right": "18px",
    "top": "126px",
    "width": "485px"
   },
   "types_to_exclude": [
    "module",
    "function",
    "builtin_function_or_method",
    "instance",
    "_Feature"
   ],
   "varInspector_section_display": "block",
   "window_display": true
  }
 },
 "nbformat": 4,
 "nbformat_minor": 2
}
